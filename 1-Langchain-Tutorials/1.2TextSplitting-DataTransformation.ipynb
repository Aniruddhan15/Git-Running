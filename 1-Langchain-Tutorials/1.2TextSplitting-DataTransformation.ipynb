{
 "cells": [
  {
   "cell_type": "code",
   "execution_count": 1,
   "id": "a94712e2",
   "metadata": {},
   "outputs": [
    {
     "data": {
      "text/plain": [
       "[Document(metadata={'producer': 'PDFsharp 1.50.4000 (www.pdfsharp.com) (Original: Conga PDF Engine 2015.08 A)', 'creator': 'Conga PDF Engine 2015.08 A', 'creationdate': '2023-08-10T17:21:00+00:00', 'author': 'Monali Jagtap', 'moddate': '2024-12-19T01:01:58-07:00', 'source': 'UMCP_Admit_Letter.pdf', 'total_pages': 2, 'page': 0, 'page_label': '1'}, page_content=\"December 19, 2024\\nAniruddhan Narasimhan\\nNo 1970, 4th street,,Vasantham Colony,\\nChennai, Tamil Nadu 600 040\\nIndia \\n       Dear Aniruddhan,\\nIt is with a great sense of pride that I welcome you to the University of Maryland's Graduate School. The university is \\ncommitted to offering programs that combine rigorous academic and technical preparation in a nurturing, diverse, and \\nengaging environment. Our graduate programs are designed to prepare graduates for a wide range of opportunities in local, \\nnational, and international settings.\\nI am  pleased to offer you admission to the Master of Science program in Applied Machine Learning for Fall 2025.\\nYour tuition and charge-differential classification: Out-of-State\\nYour condition(s) of enrollment:\\n• Submission of final official baccalaureate transcript(s) from all previous institutions by the end of the first semester of \\nstudy.\\nEach required transcript (except from the University of Maryland College Park) must show the date and conferral of the \\nawarded degree. If your transcript does not state that a degree was granted, an attested copy of your diploma/degree \\ncertificate is required. Future registration will not be possible without the receipt of these documents.\\nOfficial electronic transcripts may be sent directly from your institution to the following email address: gradschool@umd.edu. \\nOtherwise, you may mail your official unopened/sealed transcript to the following address:\\nUniversity of Maryland\\nEnrollment Service Operations\\nATTN: Transcript for Graduate Admission\\nRoom 3125 Mitchell Building\\nCollege Park, Maryland 20742, USA\\nPlease follow each step in the Checklist for New Students to prepare you for your first semester at the University of \\nMaryland. All full-time graduate students are required to have health insurance. If you will not be covered under someone  \\nelse's plan (a parent or spouse), please explore your health insurance options before the term starts. If you believe that the \\ntuition and charge-differential classification is incorrect, please contact the Residency Classification Office \\n(resclass@umd.edu).\\nIt is important to accept or decline this admission offer. Your University ID (UID) is 121955555. You will need this number for \\nregistration and other administrative purposes. The \\nInternational Student and Scholar Services office will contact you directly \\nregarding the visa process.\\nAgain, we welcome you to the University of Maryland, with our best wishes for a successful and rewarding graduate \\nexperience.\"),\n",
       " Document(metadata={'producer': 'PDFsharp 1.50.4000 (www.pdfsharp.com) (Original: Conga PDF Engine 2015.08 A)', 'creator': 'Conga PDF Engine 2015.08 A', 'creationdate': '2023-08-10T17:21:00+00:00', 'author': 'Monali Jagtap', 'moddate': '2024-12-19T01:01:58-07:00', 'source': 'UMCP_Admit_Letter.pdf', 'total_pages': 2, 'page': 1, 'page_label': '2'}, page_content='Sincerely,\\nStephen M. Roth\\nDean, The Graduate School\\nUniversity ID (UID) is 121955555\\nApplied Machine Learning (SAML), M.S., Fall 2025')]"
      ]
     },
     "execution_count": 1,
     "metadata": {},
     "output_type": "execute_result"
    }
   ],
   "source": [
    "from langchain_community.document_loaders import PyPDFLoader\n",
    "pdf = PyPDFLoader('UMCP_Admit_Letter.pdf')\n",
    "pdf.load()"
   ]
  },
  {
   "cell_type": "markdown",
   "id": "2d6caa14",
   "metadata": {},
   "source": [
    "# How to recursively split text by character"
   ]
  },
  {
   "cell_type": "markdown",
   "id": "947cc30c",
   "metadata": {},
   "source": [
    "# Error"
   ]
  },
  {
   "cell_type": "code",
   "execution_count": 3,
   "id": "c07e7bac",
   "metadata": {},
   "outputs": [
    {
     "ename": "TypeError",
     "evalue": "object of type 'PyPDFLoader' has no len()",
     "output_type": "error",
     "traceback": [
      "\u001b[1;31m---------------------------------------------------------------------------\u001b[0m",
      "\u001b[1;31mTypeError\u001b[0m                                 Traceback (most recent call last)",
      "Cell \u001b[1;32mIn[3], line 6\u001b[0m\n\u001b[0;32m      1\u001b[0m \u001b[38;5;28;01mfrom\u001b[39;00m\u001b[38;5;250m \u001b[39m\u001b[38;5;21;01mlangchain_text_splitters\u001b[39;00m\u001b[38;5;250m \u001b[39m\u001b[38;5;28;01mimport\u001b[39;00m RecursiveCharacterTextSplitter\n\u001b[0;32m      2\u001b[0m text_splitter \u001b[38;5;241m=\u001b[39m RecursiveCharacterTextSplitter(\n\u001b[0;32m      3\u001b[0m     chunk_size\u001b[38;5;241m=\u001b[39m\u001b[38;5;241m100\u001b[39m,\n\u001b[0;32m      4\u001b[0m     chunk_overlap\u001b[38;5;241m=\u001b[39m\u001b[38;5;241m30\u001b[39m \u001b[38;5;66;03m#chunk overlap in characters\u001b[39;00m\n\u001b[0;32m      5\u001b[0m )\n\u001b[1;32m----> 6\u001b[0m final_document \u001b[38;5;241m=\u001b[39m \u001b[43mtext_splitter\u001b[49m\u001b[38;5;241;43m.\u001b[39;49m\u001b[43mcreate_documents\u001b[49m\u001b[43m(\u001b[49m\u001b[43mpdf\u001b[49m\u001b[43m)\u001b[49m\n",
      "File \u001b[1;32md:\\LLM_Final\\venv\\lib\\site-packages\\langchain_text_splitters\\base.py:74\u001b[0m, in \u001b[0;36mTextSplitter.create_documents\u001b[1;34m(self, texts, metadatas)\u001b[0m\n\u001b[0;32m     70\u001b[0m \u001b[38;5;28;01mdef\u001b[39;00m\u001b[38;5;250m \u001b[39m\u001b[38;5;21mcreate_documents\u001b[39m(\n\u001b[0;32m     71\u001b[0m     \u001b[38;5;28mself\u001b[39m, texts: List[\u001b[38;5;28mstr\u001b[39m], metadatas: Optional[List[\u001b[38;5;28mdict\u001b[39m]] \u001b[38;5;241m=\u001b[39m \u001b[38;5;28;01mNone\u001b[39;00m\n\u001b[0;32m     72\u001b[0m ) \u001b[38;5;241m-\u001b[39m\u001b[38;5;241m>\u001b[39m List[Document]:\n\u001b[0;32m     73\u001b[0m \u001b[38;5;250m    \u001b[39m\u001b[38;5;124;03m\"\"\"Create documents from a list of texts.\"\"\"\u001b[39;00m\n\u001b[1;32m---> 74\u001b[0m     _metadatas \u001b[38;5;241m=\u001b[39m metadatas \u001b[38;5;129;01mor\u001b[39;00m [{}] \u001b[38;5;241m*\u001b[39m \u001b[38;5;28;43mlen\u001b[39;49m\u001b[43m(\u001b[49m\u001b[43mtexts\u001b[49m\u001b[43m)\u001b[49m\n\u001b[0;32m     75\u001b[0m     documents \u001b[38;5;241m=\u001b[39m []\n\u001b[0;32m     76\u001b[0m     \u001b[38;5;28;01mfor\u001b[39;00m i, text \u001b[38;5;129;01min\u001b[39;00m \u001b[38;5;28menumerate\u001b[39m(texts):\n",
      "\u001b[1;31mTypeError\u001b[0m: object of type 'PyPDFLoader' has no len()"
     ]
    }
   ],
   "source": [
    "from langchain_text_splitters import RecursiveCharacterTextSplitter\n",
    "text_splitter = RecursiveCharacterTextSplitter(\n",
    "    chunk_size=100,\n",
    "    chunk_overlap=30 #chunk overlap in characters\n",
    ")\n",
    "final_document = text_splitter.create_documents(pdf)"
   ]
  },
  {
   "cell_type": "code",
   "execution_count": 5,
   "id": "c27ea6ec",
   "metadata": {},
   "outputs": [],
   "source": [
    "from langchain_community.document_loaders import PyPDFLoader"
   ]
  },
  {
   "cell_type": "code",
   "execution_count": 14,
   "id": "4fd44053",
   "metadata": {},
   "outputs": [],
   "source": [
    "from langchain_text_splitters import RecursiveCharacterTextSplitter\n",
    "text_splitter = RecursiveCharacterTextSplitter(\n",
    "    chunk_size=200,\n",
    "    chunk_overlap=30 #chunk overlap in characters\n",
    ")\n",
    "final_document = text_splitter.split_documents(pdf.load())"
   ]
  },
  {
   "cell_type": "code",
   "execution_count": 10,
   "id": "296bb10e",
   "metadata": {},
   "outputs": [
    {
     "data": {
      "text/plain": [
       "'December 19, 2024\\nAniruddhan Narasimhan\\nNo 1970, 4th street,,Vasantham Colony,'"
      ]
     },
     "execution_count": 10,
     "metadata": {},
     "output_type": "execute_result"
    }
   ],
   "source": [
    "final_document[0].page_content"
   ]
  },
  {
   "cell_type": "code",
   "execution_count": 11,
   "id": "61348dd1",
   "metadata": {},
   "outputs": [
    {
     "data": {
      "text/plain": [
       "{'producer': 'PDFsharp 1.50.4000 (www.pdfsharp.com) (Original: Conga PDF Engine 2015.08 A)',\n",
       " 'creator': 'Conga PDF Engine 2015.08 A',\n",
       " 'creationdate': '2023-08-10T17:21:00+00:00',\n",
       " 'author': 'Monali Jagtap',\n",
       " 'moddate': '2024-12-19T01:01:58-07:00',\n",
       " 'source': 'UMCP_Admit_Letter.pdf',\n",
       " 'total_pages': 2,\n",
       " 'page': 0,\n",
       " 'page_label': '1'}"
      ]
     },
     "execution_count": 11,
     "metadata": {},
     "output_type": "execute_result"
    }
   ],
   "source": [
    "final_document[0].metadata"
   ]
  },
  {
   "cell_type": "code",
   "execution_count": 12,
   "id": "7d726897",
   "metadata": {},
   "outputs": [
    {
     "data": {
      "text/plain": [
       "'UMCP_Admit_Letter.pdf'"
      ]
     },
     "execution_count": 12,
     "metadata": {},
     "output_type": "execute_result"
    }
   ],
   "source": [
    "\n",
    "final_document[0].metadata['source']"
   ]
  },
  {
   "cell_type": "code",
   "execution_count": 15,
   "id": "b339bd04",
   "metadata": {},
   "outputs": [
    {
     "name": "stdout",
     "output_type": "stream",
     "text": [
      "December 19, 2024\n",
      "Aniruddhan Narasimhan\n",
      "No 1970, 4th street,,Vasantham Colony,\n",
      "Chennai, Tamil Nadu 600 040\n",
      "India \n",
      "       Dear Aniruddhan,\n",
      "Dear Aniruddhan,\n",
      "It is with a great sense of pride that I welcome you to the University of Maryland's Graduate School. The university is\n"
     ]
    }
   ],
   "source": [
    "print(final_document[0].page_content)\n",
    "print(final_document[1].page_content)"
   ]
  },
  {
   "cell_type": "markdown",
   "id": "eed15db6",
   "metadata": {},
   "source": [
    "from langchain_community.document_loaders import TextLoader\n",
    "TextLoader = TextLoader('LR.txt')\n",
    "TextLoader"
   ]
  },
  {
   "cell_type": "code",
   "execution_count": 17,
   "id": "1176f49d",
   "metadata": {},
   "outputs": [],
   "source": [
    "from langchain_community.document_loaders import TextLoader\n",
    "TextLoader = TextLoader('LR.txt')\n",
    "docs4 = TextLoader.load()"
   ]
  },
  {
   "cell_type": "markdown",
   "id": "f4ea67c9",
   "metadata": {},
   "source": [
    "# Another way"
   ]
  },
  {
   "cell_type": "code",
   "execution_count": 18,
   "id": "7742f526",
   "metadata": {},
   "outputs": [
    {
     "name": "stdout",
     "output_type": "stream",
     "text": [
      "LR:\n",
      "\n",
      "17,18,19,20,22,23,24\n",
      "\n",
      "New:\n",
      "\n",
      "1. A population-based study made by Lee et al. [28] represented a predictive model for the early screening of high-risk patients. They accredited that their diagnostic model will support medical care community to know the risk of pancreatic cancer. Their study was built on Taiwan Health Insurance Database (NHIRD). They used four models including logistic regression (LR), deep neural networks DNN, ensemble learning, and voting ensemble to develop their predictive model. The model achieved accuracy ranging from 73 to 75%, and the area under curve (AUC) from 0.71 to 0.76.\n",
      "\n",
      "2. Quantum Computing and Machine Learning in Medical Decision-Making: A Comprehensive Review\n",
      "MDPI\n",
      "Algorithms\n",
      "March 202518(3):156\n",
      "DOI:10.3390/a18030156\n",
      "LicenseCC BY 4.0\n",
      "\n",
      "3.\n",
      "Biamonte \\textit{et al.} \\cite{biamonte2017qml} explored the intersection of QC and ML, providing a structured overview of QML algorithms and their applications. The authors emphasize the potential of quantum-based algorithms, such as quantum SVM and QNN, in solving complicated challenges faster than their conventional counterparts\n",
      "\n",
      "4. \n",
      "Mari et al. [7] introduced an uncanny hybrid approach integrating transfer learn-\n",
      "ing with quantum neural networks to improve model efficiency. The authors\n",
      "propose a framework where a pre-trained classical neural network is fine-tuned\n",
      "using quantum variational circuits, demonstrating significant improvements in\n",
      "model performance with reduced computational costs.\n",
      "\n",
      "5. \n",
      "Schizophrenia is a serious chronic mental disorder that significantly affects daily life. Electroencephalography (EEG), a method used to measure mental activities in the brain, is among the techniques employed in the diagnosis of schizophrenia. The symptoms of the disease typically begin in childhood and become more pronounced as one grows older. However, it can be managed with specific treatments. Computer-aided methods can be used to achieve an early diagnosis of this illness. In this study, various machine learning algorithms and the emerging technology of quantum-based machine learning algorithm were used to detect schizophrenia using EEG signals. The principal component analysis (PCA) method was applied to process the obtained data in quantum systems. The data, which were reduced in dimensionality, were transformed into qubit form using various feature maps and provided as input to the Quantum Support Vector Machine (QSVM) algorithm. Thus, the QSVM algorithm was applied using different qubit numbers and different circuits in addition to classical machine learning algorithms. All analyses were conducted in the simulator environment of the IBM Quantum Platform. In the classification of this EEG dataset, it is evident that the QSVM algorithm demonstrated superior performance with a 100% success rate when using Pauli X and Pauli Z feature maps. This study serves as proof that quantum machine learning algorithms can be effectively utilized in the field of healthcare.\n",
      "\n",
      "6. \n",
      "\n",
      "Quantum computing with its inherent parallelism provides a quantum advantage over classical computing. Its potential to offer breakthrough advances in various areas of science and engineering is foreseen. Machine learning is one of the key areas where the power of quantum computing can be utilized. Though many machine learning algorithms have been successfully developed to solve a variety of problems in the past decades, these algorithms take a long time to train. Also working on today's colossal datasets makes these algorithms computationally intensive. Quantum machine learning by utilizing the concepts of superposition and entanglement promises a solution to this problem. Quantum machine learning algorithms are in surface for the past few years and majority of the current research has dealt with the two machine learning problems namely classification and clustering. In this paper, a brief review of the recent techniques and algorithms of quantum machine learning and its scope in solving real world problems is studied.\n"
     ]
    }
   ],
   "source": [
    "\n",
    "LR=\" \" \n",
    "with open('LR.txt', 'r') as file:\n",
    "    LR = file.read()\n",
    "    print(LR)"
   ]
  },
  {
   "cell_type": "code",
   "execution_count": 19,
   "id": "f884d10a",
   "metadata": {},
   "outputs": [
    {
     "data": {
      "text/plain": [
       "\"LR:\\n\\n17,18,19,20,22,23,24\\n\\nNew:\\n\\n1. A population-based study made by Lee et al. [28] represented a predictive model for the early screening of high-risk patients. They accredited that their diagnostic model will support medical care community to know the risk of pancreatic cancer. Their study was built on Taiwan Health Insurance Database (NHIRD). They used four models including logistic regression (LR), deep neural networks DNN, ensemble learning, and voting ensemble to develop their predictive model. The model achieved accuracy ranging from 73 to 75%, and the area under curve (AUC) from 0.71 to 0.76.\\n\\n2. Quantum Computing and Machine Learning in Medical Decision-Making: A Comprehensive Review\\nMDPI\\nAlgorithms\\nMarch 202518(3):156\\nDOI:10.3390/a18030156\\nLicenseCC BY 4.0\\n\\n3.\\nBiamonte \\\\textit{et al.} \\\\cite{biamonte2017qml} explored the intersection of QC and ML, providing a structured overview of QML algorithms and their applications. The authors emphasize the potential of quantum-based algorithms, such as quantum SVM and QNN, in solving complicated challenges faster than their conventional counterparts\\n\\n4. \\nMari et al. [7] introduced an uncanny hybrid approach integrating transfer learn-\\ning with quantum neural networks to improve model efficiency. The authors\\npropose a framework where a pre-trained classical neural network is fine-tuned\\nusing quantum variational circuits, demonstrating significant improvements in\\nmodel performance with reduced computational costs.\\n\\n5. \\nSchizophrenia is a serious chronic mental disorder that significantly affects daily life. Electroencephalography (EEG), a method used to measure mental activities in the brain, is among the techniques employed in the diagnosis of schizophrenia. The symptoms of the disease typically begin in childhood and become more pronounced as one grows older. However, it can be managed with specific treatments. Computer-aided methods can be used to achieve an early diagnosis of this illness. In this study, various machine learning algorithms and the emerging technology of quantum-based machine learning algorithm were used to detect schizophrenia using EEG signals. The principal component analysis (PCA) method was applied to process the obtained data in quantum systems. The data, which were reduced in dimensionality, were transformed into qubit form using various feature maps and provided as input to the Quantum Support Vector Machine (QSVM) algorithm. Thus, the QSVM algorithm was applied using different qubit numbers and different circuits in addition to classical machine learning algorithms. All analyses were conducted in the simulator environment of the IBM Quantum Platform. In the classification of this EEG dataset, it is evident that the QSVM algorithm demonstrated superior performance with a 100% success rate when using Pauli X and Pauli Z feature maps. This study serves as proof that quantum machine learning algorithms can be effectively utilized in the field of healthcare.\\n\\n6. \\n\\nQuantum computing with its inherent parallelism provides a quantum advantage over classical computing. Its potential to offer breakthrough advances in various areas of science and engineering is foreseen. Machine learning is one of the key areas where the power of quantum computing can be utilized. Though many machine learning algorithms have been successfully developed to solve a variety of problems in the past decades, these algorithms take a long time to train. Also working on today's colossal datasets makes these algorithms computationally intensive. Quantum machine learning by utilizing the concepts of superposition and entanglement promises a solution to this problem. Quantum machine learning algorithms are in surface for the past few years and majority of the current research has dealt with the two machine learning problems namely classification and clustering. In this paper, a brief review of the recent techniques and algorithms of quantum machine learning and its scope in solving real world problems is studied.\""
      ]
     },
     "execution_count": 19,
     "metadata": {},
     "output_type": "execute_result"
    }
   ],
   "source": [
    "LR"
   ]
  },
  {
   "cell_type": "code",
   "execution_count": 21,
   "id": "d2d675ed",
   "metadata": {},
   "outputs": [
    {
     "data": {
      "text/plain": [
       "'LR:\\n\\n17,18,19,20,22,23,24\\n\\nNew:'"
      ]
     },
     "execution_count": 21,
     "metadata": {},
     "output_type": "execute_result"
    }
   ],
   "source": [
    "text_splitter1 = RecursiveCharacterTextSplitter(\n",
    "    chunk_size=100,\n",
    "    chunk_overlap=30 #chunk overlap in characters\n",
    ")\n",
    "final_document1 = text_splitter1.create_documents([LR])\n",
    "final_document1[0].page_content"
   ]
  },
  {
   "cell_type": "code",
   "execution_count": 23,
   "id": "1b325e0f",
   "metadata": {},
   "outputs": [
    {
     "data": {
      "text/plain": [
       "'1. A population-based study made by Lee et al. [28] represented a predictive model for the early'"
      ]
     },
     "execution_count": 23,
     "metadata": {},
     "output_type": "execute_result"
    }
   ],
   "source": [
    "final_document1[1].page_content"
   ]
  },
  {
   "cell_type": "code",
   "execution_count": 25,
   "id": "b6448192",
   "metadata": {},
   "outputs": [
    {
     "data": {
      "text/plain": [
       "list"
      ]
     },
     "execution_count": 25,
     "metadata": {},
     "output_type": "execute_result"
    }
   ],
   "source": [
    "type(final_document1)"
   ]
  },
  {
   "cell_type": "code",
   "execution_count": null,
   "id": "06afc4e9",
   "metadata": {},
   "outputs": [],
   "source": []
  }
 ],
 "metadata": {
  "kernelspec": {
   "display_name": "Python 3",
   "language": "python",
   "name": "python3"
  },
  "language_info": {
   "codemirror_mode": {
    "name": "ipython",
    "version": 3
   },
   "file_extension": ".py",
   "mimetype": "text/x-python",
   "name": "python",
   "nbconvert_exporter": "python",
   "pygments_lexer": "ipython3",
   "version": "3.10.0"
  }
 },
 "nbformat": 4,
 "nbformat_minor": 5
}
